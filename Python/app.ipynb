{
 "cells": [
  {
   "cell_type": "code",
   "execution_count": 4,
   "metadata": {},
   "outputs": [],
   "source": [
    "from functions import Dataset, import_data, outlayer, rysuj_boxplot, checkbox_outlayer, zakres_lat, wybor_lat\n",
    "import ipywidgets as widgets\n",
    "from IPython.display import display\n",
    "import pandas as pd\n",
    "from testy import dwie_srednie"
   ]
  },
  {
   "cell_type": "code",
   "execution_count": 5,
   "metadata": {},
   "outputs": [
    {
     "name": "stdout",
     "output_type": "stream",
     "text": [
      "Nasza aplikacja z kolizjami jest w trakcie budowy\n"
     ]
    }
   ],
   "source": [
    "print(Dataset())"
   ]
  },
  {
   "cell_type": "markdown",
   "metadata": {},
   "source": [
    "### Pobranie danych"
   ]
  },
  {
   "cell_type": "code",
   "execution_count": 7,
   "metadata": {},
   "outputs": [
    {
     "name": "stdout",
     "output_type": "stream",
     "text": [
      "Wyciągnięcie danych chwilę trwa, zrelaksuj się i czekaj na komunikat o zakończeniu\n",
      "Gotowe - możesz robić analizy\n"
     ]
    }
   ],
   "source": [
    "df = import_data(Dataset.kolizje)"
   ]
  },
  {
   "cell_type": "markdown",
   "metadata": {},
   "source": [
    "### Czy chcesz robić analizę z outlayer'ami?"
   ]
  },
  {
   "cell_type": "code",
   "execution_count": 8,
   "metadata": {},
   "outputs": [
    {
     "data": {
      "application/vnd.jupyter.widget-view+json": {
       "model_id": "b4d37f875d414e6382fec847d8ac7364",
       "version_major": 2,
       "version_minor": 0
      },
      "text/plain": [
       "Checkbox(value=False, description='Uwzględnić obserwacje odstające?', indent=False)"
      ]
     },
     "metadata": {},
     "output_type": "display_data"
    }
   ],
   "source": [
    "wybor = checkbox_outlayer(pytanie='Uwzględnić obserwacje odstające?')\n",
    "wybor"
   ]
  },
  {
   "cell_type": "code",
   "execution_count": 9,
   "metadata": {
    "scrolled": true
   },
   "outputs": [
    {
     "name": "stdout",
     "output_type": "stream",
     "text": [
      "Wybrałeś analizę na danych BEZ obserwacji odstających\n"
     ]
    }
   ],
   "source": [
    "df = outlayer(wybor.value, df)"
   ]
  },
  {
   "cell_type": "markdown",
   "metadata": {},
   "source": [
    "### Wybierz zakres lat do analizy"
   ]
  },
  {
   "cell_type": "code",
   "execution_count": 10,
   "metadata": {},
   "outputs": [
    {
     "data": {
      "application/vnd.jupyter.widget-view+json": {
       "model_id": "e90f91ff28a04c24b3ced0c635b55d08",
       "version_major": 2,
       "version_minor": 0
      },
      "text/plain": [
       "IntRangeSlider(value=(2004, 2020), description='Zakres lat', max=2020, min=2004)"
      ]
     },
     "metadata": {},
     "output_type": "display_data"
    }
   ],
   "source": [
    "lata = wybor_lat(pytanie='Zakres lat')\n",
    "lata"
   ]
  },
  {
   "cell_type": "code",
   "execution_count": 18,
   "metadata": {},
   "outputs": [
    {
     "name": "stdout",
     "output_type": "stream",
     "text": [
      "Wybrałeś lata pomiędzy 2007, a 2016\n"
     ]
    }
   ],
   "source": [
    "df = zakres_lat(lata.value, df)"
   ]
  },
  {
   "cell_type": "markdown",
   "metadata": {},
   "source": [
    "### Wybierz kolumnę po której chcesz grupować oraz cechę którą chcesz badać na wkyresie skrynkowym"
   ]
  },
  {
   "cell_type": "code",
   "execution_count": 19,
   "metadata": {},
   "outputs": [
    {
     "data": {
      "application/vnd.jupyter.widget-view+json": {
       "model_id": "cad2650f48cd4dae9a7b60e1f4e45c16",
       "version_major": 2,
       "version_minor": 0
      },
      "text/plain": [
       "Dropdown(description='Grupuj: ', options=('RANNI', 'POWAŻNIE_RANNI', 'ŚMIERTELNIE_RANNI'), value='RANNI')"
      ]
     },
     "metadata": {},
     "output_type": "display_data"
    }
   ],
   "source": [
    "grupowanie = widgets.Dropdown(\n",
    "             options=['RANNI', 'POWAŻNIE_RANNI', 'ŚMIERTELNIE_RANNI'],\n",
    "             value='RANNI',\n",
    "             description='Grupuj: ')\n",
    "grupowanie"
   ]
  },
  {
   "cell_type": "code",
   "execution_count": 20,
   "metadata": {},
   "outputs": [
    {
     "data": {
      "application/vnd.jupyter.widget-view+json": {
       "model_id": "724eba7e75e84d3aa42a0a15def6013d",
       "version_major": 2,
       "version_minor": 0
      },
      "text/plain": [
       "Dropdown(description='Cecha:', index=24, options=('DLUGOSC', 'SZEROKOSC', 'DOTKLIWOSC_KOLIZJI', 'TYP_KOLIZJI',…"
      ]
     },
     "metadata": {},
     "output_type": "display_data"
    }
   ],
   "source": [
    "cecha = widgets.Dropdown(\n",
    "        options=df.columns,\n",
    "        value='KIERUNEK_SZCZEGOLY',\n",
    "        description='Cecha:')\n",
    "cecha"
   ]
  },
  {
   "cell_type": "code",
   "execution_count": 21,
   "metadata": {
    "scrolled": false
   },
   "outputs": [
    {
     "data": {
      "image/png": "[encoded data removed]",
      "text/plain": [
       "<Figure size 1440x720 with 1 Axes>"
      ]
     },
     "metadata": {
      "needs_background": "light"
     },
     "output_type": "display_data"
    }
   ],
   "source": [
    "rysuj_boxplot(df, grupowanie.value, cecha.value)"
   ]
  },
  {
   "cell_type": "markdown",
   "metadata": {},
   "source": [
    "### Test średnich"
   ]
  },
  {
   "cell_type": "code",
   "execution_count": 17,
   "metadata": {},
   "outputs": [
    {
     "name": "stdout",
     "output_type": "stream",
     "text": [
      "Odrzucamy hipotezę zerową na rzecz alternatywnej \n",
      "U=-2.5676601367133123<=-2.3263478740408408=u_alpha \n",
      "m1=0.0010331340860453102\n",
      "m2=0.0027037466203167246 \n",
      "p_value=0.005119374287263001\n"
     ]
    }
   ],
   "source": [
    "dwie_srednie(dane=df, cecha='ROK', grupa1 = 2007, grupa2 = 2017, wartosc='ŚMIERTELNIE_RANNI', alpha=0.01, obszar='lewy')"
   ]
  },
  {
   "cell_type": "code",
   "execution_count": null,
   "metadata": {},
   "outputs": [],
   "source": []
  }
 ],
 "metadata": {
  "file_extension": ".py",
  "kernelspec": {
   "display_name": "Python 3",
   "language": "python",
   "name": "python3"
  },
  "language_info": {
   "codemirror_mode": {
    "name": "ipython",
    "version": 3
   },
   "file_extension": ".py",
   "mimetype": "text/x-python",
   "name": "python",
   "nbconvert_exporter": "python",
   "pygments_lexer": "ipython3",
   "version": "3.7.4"
  },
  "mimetype": "text/x-python",
  "name": "python",
  "npconvert_exporter": "python",
  "pygments_lexer": "ipython3",
  "version": 3
 },
 "nbformat": 4,
 "nbformat_minor": 2
}
