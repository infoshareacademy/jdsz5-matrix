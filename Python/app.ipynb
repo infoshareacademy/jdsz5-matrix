{
 "cells": [
  {
   "cell_type": "code",
   "execution_count": 2,
   "metadata": {},
   "outputs": [],
   "source": [
    "from functions import Dataset, import_data"
   ]
  },
  {
   "cell_type": "code",
   "execution_count": 3,
   "metadata": {},
   "outputs": [
    {
     "name": "stdout",
     "output_type": "stream",
     "text": [
      "Nasza apliakcja jest w trakcie budowy - już niedługo finał\n"
     ]
    }
   ],
   "source": [
    "print(Dataset())"
   ]
  },
  {
   "cell_type": "markdown",
   "metadata": {},
   "source": [
    "### Pobranie danych"
   ]
  },
  {
   "cell_type": "code",
   "execution_count": 4,
   "metadata": {},
   "outputs": [
    {
     "name": "stdout",
     "output_type": "stream",
     "text": [
      "Wyciągnięcie danych chilę trwa, zrelaksuj się :) \n"
     ]
    }
   ],
   "source": [
    "df = import_data(Dataset.kolizje)"
   ]
  },
  {
   "cell_type": "markdown",
   "metadata": {},
   "source": [
    "### Dostępne kolumny"
   ]
  },
  {
   "cell_type": "code",
   "execution_count": 6,
   "metadata": {},
   "outputs": [
    {
     "name": "stdout",
     "output_type": "stream",
     "text": [
      "Index(['DLUGOSC', 'SZEROKOSC', 'DOTKLIWOSC_KOLIZJI', 'TYP_KOLIZJI',\n",
      "       'UCZESTNICY', 'PRZECHODZIEN', 'PROWERZYSTA', 'KIEROWCA', 'RANNI',\n",
      "       'POWAŻNIE_RANNI', 'ŚMIERTELNIE_RANNI', 'NIEUWAGA', 'POD_WYPLYWEM',\n",
      "       'POGODA', 'WARUNKI_DROGOWE', 'OSWIETLENIE', 'PIERWSZENSTO_PIESZEGO',\n",
      "       'PRZEKORCZENIE_PREDKOSCI', 'ROK', 'MIESIAC', 'DZIEN', 'DZIEN_TYG',\n",
      "       'SPRAWCA', 'POSZKODOWANY', 'KIERUNEK_SZCZEGOLY'],\n",
      "      dtype='object')\n"
     ]
    }
   ],
   "source": [
    " print(df.columns)"
   ]
  },
  {
   "cell_type": "code",
   "execution_count": null,
   "metadata": {},
   "outputs": [],
   "source": []
  }
 ],
 "metadata": {
  "file_extension": ".py",
  "kernelspec": {
   "display_name": "Python 3",
   "language": "python",
   "name": "python3"
  },
  "language_info": {
   "codemirror_mode": {
    "name": "ipython",
    "version": 3
   },
   "file_extension": ".py",
   "mimetype": "text/x-python",
   "name": "python",
   "nbconvert_exporter": "python",
   "pygments_lexer": "ipython3",
   "version": "3.7.4"
  },
  "mimetype": "text/x-python",
  "name": "python",
  "npconvert_exporter": "python",
  "pygments_lexer": "ipython3",
  "version": 3
 },
 "nbformat": 4,
 "nbformat_minor": 2
}
