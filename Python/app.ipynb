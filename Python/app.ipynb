{
 "cells": [
  {
   "cell_type": "code",
   "execution_count": 1,
   "metadata": {},
   "outputs": [],
   "source": [
    "from functions import Dataset, import_data, outlayer, rysuj_boxplot\n",
    "from testy import dwie_srednie"
   ]
  },
  {
   "cell_type": "code",
   "execution_count": 2,
   "metadata": {},
   "outputs": [
    {
     "name": "stdout",
     "output_type": "stream",
     "text": [
      "Nasza aplikacja z kolizjami jest w trakcie budowy\n"
     ]
    }
   ],
   "source": [
    "print(Dataset())"
   ]
  },
  {
   "cell_type": "markdown",
   "metadata": {},
   "source": [
    "### Pobranie danych"
   ]
  },
  {
   "cell_type": "code",
   "execution_count": 3,
   "metadata": {},
   "outputs": [
    {
     "name": "stdout",
     "output_type": "stream",
     "text": [
      "Wyciągnięcie danych chwilę trwa, zrelaksuj się i czekaj na komunikat o zakończeniu\n"
     ]
    },
    {
     "name": "stderr",
     "output_type": "stream",
     "text": [
      "C:\\Users\\wojci\\Anaconda3\\lib\\site-packages\\pandas\\core\\frame.py:3997: SettingWithCopyWarning: \n",
      "A value is trying to be set on a copy of a slice from a DataFrame\n",
      "\n",
      "See the caveats in the documentation: https://pandas.pydata.org/pandas-docs/stable/user_guide/indexing.html#returning-a-view-versus-a-copy\n",
      "  errors=errors,\n"
     ]
    },
    {
     "name": "stdout",
     "output_type": "stream",
     "text": [
      "Gotowe - możesz robić analizy\n"
     ]
    }
   ],
   "source": [
    "df = import_data(Dataset.kolizje)"
   ]
  },
  {
   "cell_type": "markdown",
   "metadata": {},
   "source": [
    "### Dostępne kolumny"
   ]
  },
  {
   "cell_type": "code",
   "execution_count": 4,
   "metadata": {},
   "outputs": [
    {
     "data": {
      "text/plain": [
       "Index(['DLUGOSC', 'SZEROKOSC', 'DOTKLIWOSC_KOLIZJI', 'TYP_KOLIZJI',\n",
       "       'UCZESTNICY', 'PRZECHODZIEN', 'PROWERZYSTA', 'KIEROWCA', 'RANNI',\n",
       "       'POWAŻNIE_RANNI', 'ŚMIERTELNIE_RANNI', 'NIEUWAGA', 'POD_WYPLYWEM',\n",
       "       'POGODA', 'WARUNKI_DROGOWE', 'OSWIETLENIE', 'PIERWSZENSTO_PIESZEGO',\n",
       "       'PRZEKORCZENIE_PREDKOSCI', 'ROK', 'MIESIAC', 'DZIEN', 'DZIEN_TYG',\n",
       "       'SPRAWCA', 'POSZKODOWANY', 'KIERUNEK_SZCZEGOLY'],\n",
       "      dtype='object')"
      ]
     },
     "execution_count": 4,
     "metadata": {},
     "output_type": "execute_result"
    }
   ],
   "source": [
    "df.columns"
   ]
  },
  {
   "cell_type": "markdown",
   "metadata": {},
   "source": [
    "##### Czy chcesz robić analizę z outlayer'ami? Y/N"
   ]
  },
  {
   "cell_type": "code",
   "execution_count": 5,
   "metadata": {},
   "outputs": [],
   "source": [
    "df = outlayer('N', df)"
   ]
  },
  {
   "cell_type": "markdown",
   "metadata": {},
   "source": [
    "##### Wybierz zmienne do wkyresu skrzynkowego z wylistowanych powyżej"
   ]
  },
  {
   "cell_type": "code",
   "execution_count": 6,
   "metadata": {},
   "outputs": [
    {
     "data": {
      "image/png": "[encoded data removed]",
      "text/plain": [
       "<Figure size 1440x720 with 1 Axes>"
      ]
     },
     "metadata": {
      "needs_background": "light"
     },
     "output_type": "display_data"
    }
   ],
   "source": [
    "rysuj_boxplot(df, 'RANNI', 'KIERUNEK_SZCZEGOLY')"
   ]
  },
  {
   "cell_type": "code",
   "execution_count": 10,
   "metadata": {},
   "outputs": [
    {
     "name": "stdout",
     "output_type": "stream",
     "text": [
      "Odrzucamy hipotezę zerową na rzecz alternatywnej \n",
      "U=-2.5676601367133123<=-2.3263478740408408=u_alpha \n",
      "m1=0.0010331340860453102\n",
      "m2=0.0027037466203167246 \n",
      "p_value=0.005119374287263001\n"
     ]
    }
   ],
   "source": [
    "dwie_srednie(dane=df, cecha='ROK', grupa1 = 2007, grupa2 = 2017, wartosc='ŚMIERTELNIE_RANNI', alpha=0.01, obszar='lewy')"
   ]
  },
  {
   "cell_type": "code",
   "execution_count": null,
   "metadata": {},
   "outputs": [],
   "source": []
  }
 ],
 "metadata": {
  "file_extension": ".py",
  "kernelspec": {
   "display_name": "Python 3",
   "language": "python",
   "name": "python3"
  },
  "language_info": {
   "codemirror_mode": {
    "name": "ipython",
    "version": 3
   },
   "file_extension": ".py",
   "mimetype": "text/x-python",
   "name": "python",
   "nbconvert_exporter": "python",
   "pygments_lexer": "ipython3",
   "version": "3.7.7"
  },
  "mimetype": "text/x-python",
  "name": "python",
  "npconvert_exporter": "python",
  "pygments_lexer": "ipython3",
  "version": 3
 },
 "nbformat": 4,
 "nbformat_minor": 2
}
